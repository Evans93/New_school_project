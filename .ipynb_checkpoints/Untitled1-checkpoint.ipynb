{
 "cells": [
  {
   "cell_type": "code",
   "execution_count": 4,
   "id": "01bf592d-0057-4c28-8897-55baf87933b4",
   "metadata": {},
   "outputs": [
    {
     "name": "stdout",
     "output_type": "stream",
     "text": [
      "{'uci_id': 312, 'name': 'Dow Jones Index', 'repository_url': 'https://archive.ics.uci.edu/dataset/312/dow+jones+index', 'data_url': 'https://archive.ics.uci.edu/static/public/312/data.csv', 'abstract': 'This dataset contains weekly data for the Dow Jones Industrial Index.  It has been used in computational investing research.', 'area': 'Business', 'tasks': ['Classification', 'Clustering'], 'characteristics': ['Time-Series'], 'num_instances': 750, 'num_features': 15, 'feature_types': ['Integer', 'Real'], 'demographics': [], 'target_col': ['percent_change_next_weeks_price'], 'index_col': None, 'has_missing_values': 'no', 'missing_values_symbol': None, 'year_of_dataset_creation': 2013, 'last_updated': 'Sat Mar 09 2024', 'dataset_doi': '10.24432/C5788V', 'creators': ['Michael Brown'], 'intro_paper': {'ID': 415, 'type': 'NATIVE', 'title': 'Dynamic-Radius Species-Conserving Genetic Algorithm for the Financial Forecasting of Dow Jones Index Stocks', 'authors': 'M. S. Brown, M. Pelosi, Henry Dirska', 'venue': 'IAPR International Conference on Machine Learning and Data Mining in Pattern Recognition', 'year': 2013, 'journal': None, 'DOI': None, 'URL': 'https://www.semanticscholar.org/paper/Dynamic-Radius-Species-Conserving-Genetic-Algorithm-Brown-Pelosi/24d692e537b28b1fd13a18c0c93f0df6ef4e2047', 'sha': None, 'corpus': None, 'arxiv': None, 'mag': None, 'acl': None, 'pmid': None, 'pmcid': None}, 'additional_info': {'summary': \"In predicting stock prices you collect data over some period of time - day, week, month, etc. But you cannot take advantage of data from a time period until the next increment of the time period. For example, assume you collect data daily.  When Monday is over you have all of the data for that day.  However you can invest on Monday, because you don't get the data until the end of the day.  You can use the data from Monday to invest on Tuesday.  \\r\\n\\r\\nIn our research each record (row) is data for a week.  Each record also has the percentage of return that stock has in the following week (percent_change_next_weeks_price). Ideally, you want to determine which stock will produce the greatest rate of return in the following week.  This can help you train and test your algorithm.\\r\\n\\r\\nSome of these attributes might not be use used in your research.  They were originally added to our database to perform calculations.  (Brown, Pelosi & Dirska, 2013) used percent_change_price, percent_change_volume_over_last_wk, days_to_next_dividend, and percent_return_next_dividend.  We left the other attributes in the dataset\\tin case you wanted to use any of them. Of course what you want to maximize is percent_change_next_weeks_price.\\r\\n\\r\\nTraining data vs Test data:\\r\\nIn (Brown, Pelosi & Dirska, 2013) we used quarter 1 (Jan-Mar) data for training and quarter 2 (Apr-Jun) data for testing. \\r\\n\\r\\nInteresting data points:\\r\\nIf you use quarter 2 data for testing, you will notice something interesting in the week ending 5/27/2011 every Dow Jones Index stock lost money.\", 'purpose': None, 'funded_by': None, 'instances_represent': None, 'recommended_data_splits': None, 'sensitive_data': None, 'preprocessing_description': None, 'variable_info': '\\tquarter:  the yearly quarter (1 = Jan-Mar; 2 = Apr=Jun).\\r\\n\\tstock: the stock symbol (see above)\\r\\n\\tdate: the last business day of the work (this is typically a Friday)\\r\\n\\topen: the price of the stock at the beginning of the week\\r\\n\\thigh: the highest price of the stock during the week\\r\\n\\tlow: the lowest price of the stock during the week\\r\\n\\tclose: the price of the stock at the end of the week\\r\\n\\tvolume: the number of shares of stock that traded hands in the week\\r\\n\\tpercent_change_price: the percentage change in price throughout the week\\r\\n\\tpercent_chagne_volume_over_last_wek: the percentage change in the number of shares of \\r\\n\\t\\tstock that traded hands for this week compared to the previous week\\r\\n\\tprevious_weeks_volume: the number of shares of stock that traded hands in the previous week\\r\\n\\tnext_weeks_open: the opening price of the stock in the following week\\r\\n\\tnext_weeks_close: the closing price of the stock in the following week\\r\\n\\tpercent_change_next_weeks_price: the percentage change in price of the stock in the \\r\\n\\t\\tfollowing week days_to_next_dividend: the number of days until the next dividend\\r\\n\\tpercent_return_next_dividend: the percentage of return on the next dividend\\r\\n', 'citation': None}}\n",
      "                                  name     role         type demographic  \\\n",
      "0                              quarter  Feature      Integer        None   \n",
      "1                                stock  Feature  Categorical        None   \n",
      "2                                 date  Feature         Date        None   \n",
      "3                                 open  Feature  Categorical        None   \n",
      "4                                 high  Feature  Categorical        None   \n",
      "5                                  low  Feature  Categorical        None   \n",
      "6                                close  Feature  Categorical        None   \n",
      "7                               volume  Feature      Integer        None   \n",
      "8                 percent_change_price  Feature   Continuous        None   \n",
      "9   percent_change_volume_over_last_wk  Feature   Continuous        None   \n",
      "10               previous_weeks_volume  Feature      Integer        None   \n",
      "11                     next_weeks_open  Feature  Categorical        None   \n",
      "12                    next_weeks_close  Feature  Categorical        None   \n",
      "13     percent_change_next_weeks_price   Target   Continuous        None   \n",
      "14               days_to_next_dividend  Feature      Integer        None   \n",
      "15        percent_return_next_dividend  Feature   Continuous        None   \n",
      "\n",
      "   description units missing_values  \n",
      "0         None  None             no  \n",
      "1         None  None             no  \n",
      "2         None  None             no  \n",
      "3         None  None             no  \n",
      "4         None  None             no  \n",
      "5         None  None             no  \n",
      "6         None  None             no  \n",
      "7         None  None             no  \n",
      "8         None  None             no  \n",
      "9         None  None             no  \n",
      "10        None  None             no  \n",
      "11        None  None             no  \n",
      "12        None  None             no  \n",
      "13        None  None             no  \n",
      "14        None  None             no  \n",
      "15        None  None             no  \n"
     ]
    }
   ],
   "source": [
    "\n",
    "from ucimlrepo import fetch_ucirepo \n",
    "  \n",
    "# fetch dataset \n",
    "dow_jones_index = fetch_ucirepo(id=312) \n",
    "  \n",
    "# data (as pandas dataframes) \n",
    "X = dow_jones_index.data.features \n",
    "y = dow_jones_index.data.targets \n",
    "  \n",
    "# metadata \n",
    "print(dow_jones_index.metadata) \n",
    "  \n",
    "# variable information \n",
    "print(dow_jones_index.variables) \n"
   ]
  },
  {
   "cell_type": "code",
   "execution_count": null,
   "id": "58adb4fe-9802-449c-b9e2-9b8b9f5e769a",
   "metadata": {},
   "outputs": [],
   "source": []
  }
 ],
 "metadata": {
  "kernelspec": {
   "display_name": "Python 3 (ipykernel)",
   "language": "python",
   "name": "python3"
  },
  "language_info": {
   "codemirror_mode": {
    "name": "ipython",
    "version": 3
   },
   "file_extension": ".py",
   "mimetype": "text/x-python",
   "name": "python",
   "nbconvert_exporter": "python",
   "pygments_lexer": "ipython3",
   "version": "3.12.2"
  }
 },
 "nbformat": 4,
 "nbformat_minor": 5
}
